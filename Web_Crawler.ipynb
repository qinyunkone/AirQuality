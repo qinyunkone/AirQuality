{
  "nbformat": 4,
  "nbformat_minor": 0,
  "metadata": {
    "colab": {
      "name": "Web_Crawler.ipynb",
      "version": "0.3.2",
      "provenance": [],
      "collapsed_sections": [
        "A2P0aP0MiEad",
        "Z5RYc62riEae",
        "fsQJVer4iEat",
        "-1IF28kmiEax",
        "9ftsVmWliEa0",
        "ECUcCtqkiEbL",
        "1SEW0LifiEbi",
        "qfMjicpPiEbn",
        "7NQZbF2ciEb4",
        "I5y1xaLviEcA",
        "saSB_My-iEcE",
        "GQbp2st6iEcH",
        "R_UsdeeuysJ3",
        "6oLYk_0ViEcS",
        "Hi7JbgkViEck",
        "eq4KerBOiEc5",
        "iy_y4Ua8iEc6",
        "jGwwj442iEdB",
        "-RiJtQ0xiEdI",
        "a5XvY4yLiEdN",
        "6YXkJAVniEdN",
        "wtB9o-YdiEdS",
        "VkAqAngpWtXE",
        "TpkfiplRiEdV"
      ],
      "include_colab_link": true
    },
    "language_info": {
      "codemirror_mode": {
        "name": "ipython",
        "version": 3
      },
      "file_extension": ".py",
      "mimetype": "text/x-python",
      "name": "python",
      "nbconvert_exporter": "python",
      "pygments_lexer": "ipython3",
      "version": "3.6.8"
    },
    "kernelspec": {
      "name": "python3",
      "display_name": "Python 3"
    },
    "accelerator": "TPU"
  },
  "cells": [
    {
      "cell_type": "markdown",
      "metadata": {
        "id": "view-in-github",
        "colab_type": "text"
      },
      "source": [
        "<a href=\"https://colab.research.google.com/github/qinyunkone/My-Spider/blob/master/Web_Crawler.ipynb\" target=\"_parent\"><img src=\"https://colab.research.google.com/assets/colab-badge.svg\" alt=\"Open In Colab\"/></a>"
      ]
    },
    {
      "cell_type": "markdown",
      "metadata": {
        "id": "GHh58XP6iEab",
        "colab_type": "text"
      },
      "source": [
        "什么是爬虫？请求网站并提取数据的自动化程序。"
      ]
    },
    {
      "cell_type": "markdown",
      "metadata": {
        "id": "A2P0aP0MiEad",
        "colab_type": "text"
      },
      "source": [
        "# urllib\n",
        "\n",
        "[官方文档](https://docs.python.org/zh-cn/3.6/library/urllib.html)"
      ]
    },
    {
      "cell_type": "markdown",
      "metadata": {
        "id": "Z5RYc62riEae",
        "colab_type": "text"
      },
      "source": [
        "## Request\n",
        "\n",
        "request.Request(url, data=None, headers={}, origin_req_host=None, unverifiable=False, method=None)"
      ]
    },
    {
      "cell_type": "markdown",
      "metadata": {
        "id": "bu9KLQAEiEaf",
        "colab_type": "text"
      },
      "source": [
        "### urlopen\n",
        "\n",
        "urllib.request.urlopen(url, data=None, [timeout, ]*, cafile=None, capath=None, cadefault=False, context=None)"
      ]
    },
    {
      "cell_type": "code",
      "metadata": {
        "id": "fKKiCafCiEag",
        "colab_type": "code",
        "outputId": "fb2f92e7-e88a-4f99-fed2-3742691094df",
        "colab": {
          "base_uri": "https://localhost:8080/",
          "height": 215
        }
      },
      "source": [
        "from urllib import request\n",
        "\n",
        "url = 'http://httpbin.org/get'\n",
        "req = request.Request(url)                   # 发送请求\n",
        "# print(type(req))                             # urllib.request.Request\n",
        "response = request.urlopen(req)              # 返回响应\n",
        "# print(type(response))                        # http.client.HTTPResponse\n",
        "# print(type(response.read()))                 # bytes\n",
        "# print(type(response.read().decode('utf8')))  # str\n",
        "print(response.read().decode('utf8'))        # 源代码"
      ],
      "execution_count": 0,
      "outputs": [
        {
          "output_type": "stream",
          "text": [
            "{\n",
            "  \"args\": {}, \n",
            "  \"headers\": {\n",
            "    \"Accept-Encoding\": \"identity\", \n",
            "    \"Host\": \"httpbin.org\", \n",
            "    \"User-Agent\": \"Python-urllib/3.6\"\n",
            "  }, \n",
            "  \"origin\": \"35.190.180.154, 35.190.180.154\", \n",
            "  \"url\": \"https://httpbin.org/get\"\n",
            "}\n",
            "\n"
          ],
          "name": "stdout"
        }
      ]
    },
    {
      "cell_type": "markdown",
      "metadata": {
        "id": "v-zCinZoiEap",
        "colab_type": "text"
      },
      "source": [
        "### urlencode\n",
        "\n",
        "urllib.parse.urlencode(query, doseq=False, safe='', encoding=None, errors=None, quote_via=quote_plus)"
      ]
    },
    {
      "cell_type": "code",
      "metadata": {
        "id": "LsVC4TsniEaq",
        "colab_type": "code",
        "colab": {}
      },
      "source": [
        "from urllib import request, parse\n",
        "\n",
        "url = 'http://httpbin.org/post'\n",
        "data = bytes(parse.urlencode({'hello': 'world'}), encoding='utf8')\n",
        "headers = {\n",
        "    'user-agent': 'my-browser'\n",
        "}\n",
        "\n",
        "req = request.Request(url, data=data, headers=headers, method='POST')\n",
        "response = request.urlopen(req)\n",
        "# print(data)\n",
        "# print(response.read().decode('utf8'))"
      ],
      "execution_count": 0,
      "outputs": []
    },
    {
      "cell_type": "markdown",
      "metadata": {
        "id": "fsQJVer4iEat",
        "colab_type": "text"
      },
      "source": [
        "## Response"
      ]
    },
    {
      "cell_type": "code",
      "metadata": {
        "id": "oVvyW_kRiEau",
        "colab_type": "code",
        "outputId": "2319518c-03fe-46f2-fa5b-19625cb9d6b1",
        "colab": {
          "base_uri": "https://localhost:8080/",
          "height": 359
        }
      },
      "source": [
        "from urllib import request, parse\n",
        "\n",
        "url = 'http://httpbin.org/post'\n",
        "data = bytes(parse.urlencode({'hello': 'world'}), encoding='utf8')\n",
        "headers = {\n",
        "    'User-Agent': 'my-browser'\n",
        "}\n",
        "\n",
        "req = request.Request(url, data=data, headers=headers, method='POST')\n",
        "response = request.urlopen(req)\n",
        "\n",
        "# print(data)\n",
        "# print(response.status)\n",
        "print(response.read().decode('utf8'))"
      ],
      "execution_count": 0,
      "outputs": [
        {
          "output_type": "stream",
          "text": [
            "{\n",
            "  \"args\": {}, \n",
            "  \"data\": \"\", \n",
            "  \"files\": {}, \n",
            "  \"form\": {\n",
            "    \"hello\": \"world\"\n",
            "  }, \n",
            "  \"headers\": {\n",
            "    \"Accept-Encoding\": \"identity\", \n",
            "    \"Content-Length\": \"11\", \n",
            "    \"Content-Type\": \"application/x-www-form-urlencoded\", \n",
            "    \"Host\": \"httpbin.org\", \n",
            "    \"User-Agent\": \"my-browser\"\n",
            "  }, \n",
            "  \"json\": null, \n",
            "  \"origin\": \"35.190.180.154, 35.190.180.154\", \n",
            "  \"url\": \"https://httpbin.org/post\"\n",
            "}\n",
            "\n"
          ],
          "name": "stdout"
        }
      ]
    },
    {
      "cell_type": "markdown",
      "metadata": {
        "id": "-1IF28kmiEax",
        "colab_type": "text"
      },
      "source": [
        "# requests\n",
        "\n",
        "[中文文档](http://docs.python-requests.org/zh_CN/latest/index.html)"
      ]
    },
    {
      "cell_type": "markdown",
      "metadata": {
        "id": "9ftsVmWliEa0",
        "colab_type": "text"
      },
      "source": [
        "## 简单使用"
      ]
    },
    {
      "cell_type": "markdown",
      "metadata": {
        "id": "NYjXTw63iEa1",
        "colab_type": "text"
      },
      "source": [
        "### 基本 get 请求\n",
        "\n",
        "requests.get(url, params=None, **kwargs)"
      ]
    },
    {
      "cell_type": "code",
      "metadata": {
        "id": "ql9lsrHeiEa2",
        "colab_type": "code",
        "outputId": "40d8b31b-a5fb-4f7a-e39b-4361593fa7a0",
        "colab": {
          "base_uri": "https://localhost:8080/",
          "height": 233
        }
      },
      "source": [
        "import requests\n",
        "\n",
        "url = 'http://httpbin.org/get'\n",
        "r = requests.get(url)\n",
        "\n",
        "# print(type(r))          #requests.models.Response\n",
        "# print(type(r.content))  #bytes\n",
        "# print(r.content)        #HTTP响应内容的二进制形式\n",
        "# print(type(r.text))     #str\n",
        "print(r.text)           #HTTP响应内容的字符串形式"
      ],
      "execution_count": 0,
      "outputs": [
        {
          "output_type": "stream",
          "text": [
            "{\n",
            "  \"args\": {}, \n",
            "  \"headers\": {\n",
            "    \"Accept\": \"*/*\", \n",
            "    \"Accept-Encoding\": \"gzip, deflate\", \n",
            "    \"Host\": \"httpbin.org\", \n",
            "    \"User-Agent\": \"python-requests/2.21.0\"\n",
            "  }, \n",
            "  \"origin\": \"35.190.180.154, 35.190.180.154\", \n",
            "  \"url\": \"https://httpbin.org/get\"\n",
            "}\n",
            "\n"
          ],
          "name": "stdout"
        }
      ]
    },
    {
      "cell_type": "markdown",
      "metadata": {
        "id": "yCoHXzwbiEa6",
        "colab_type": "text"
      },
      "source": [
        "### 传递参数和请求头"
      ]
    },
    {
      "cell_type": "code",
      "metadata": {
        "id": "Jx_sV270iEa7",
        "colab_type": "code",
        "outputId": "6ae257c5-5a5e-4d34-84b9-82df5032574f",
        "colab": {
          "base_uri": "https://localhost:8080/",
          "height": 287
        }
      },
      "source": [
        "import requests\n",
        "\n",
        "url = 'http://httpbin.org/get'\n",
        "params = {'key1': 'value1', 'key2': 'value2'}\n",
        "headers = {'user-agent': 'my-app/0.0.1'}\n",
        "\n",
        "r = requests.get(url, params=params, headers=headers)\n",
        "print(r.text)"
      ],
      "execution_count": 0,
      "outputs": [
        {
          "output_type": "stream",
          "text": [
            "{\n",
            "  \"args\": {\n",
            "    \"key1\": \"value1\", \n",
            "    \"key2\": \"value2\"\n",
            "  }, \n",
            "  \"headers\": {\n",
            "    \"Accept\": \"*/*\", \n",
            "    \"Accept-Encoding\": \"gzip, deflate\", \n",
            "    \"Host\": \"httpbin.org\", \n",
            "    \"User-Agent\": \"my-app/0.0.1\"\n",
            "  }, \n",
            "  \"origin\": \"35.190.180.154, 35.190.180.154\", \n",
            "  \"url\": \"https://httpbin.org/get?key1=value1&key2=value2\"\n",
            "}\n",
            "\n"
          ],
          "name": "stdout"
        }
      ]
    },
    {
      "cell_type": "markdown",
      "metadata": {
        "id": "yAenJt_tiEa_",
        "colab_type": "text"
      },
      "source": [
        "### 常用方法"
      ]
    },
    {
      "cell_type": "code",
      "metadata": {
        "id": "3IsZGRGViEbA",
        "colab_type": "code",
        "colab": {}
      },
      "source": [
        "import requests\n",
        "\n",
        "url = 'http://httpbin.org/get'\n",
        "params = {'key1': 'value1', 'key2': 'value2'}\n",
        "headers = {\n",
        "    'user-agent': 'my-app/0.0.1'\n",
        "}\n",
        "\n",
        "r = requests.get(url, params=params, headers=headers)\n",
        "\n",
        "# print(r.url)              # http://httpbin.org/get?key1=value1&key2=value2\n",
        "# print(r.status_code)      #状态码\n",
        "# print(r.headers)          #响应头\n",
        "# print(r.request.headers)  #请求头\n",
        "# print(r.cookies)          #cookie"
      ],
      "execution_count": 0,
      "outputs": []
    },
    {
      "cell_type": "markdown",
      "metadata": {
        "id": "auOZomJ9iEbE",
        "colab_type": "text"
      },
      "source": [
        "### 解析json"
      ]
    },
    {
      "cell_type": "code",
      "metadata": {
        "id": "U6tKbHOViEbF",
        "colab_type": "code",
        "outputId": "b2cae2de-f2c9-4da2-e6d7-fe80c6ef355a",
        "colab": {
          "base_uri": "https://localhost:8080/",
          "height": 55
        }
      },
      "source": [
        "import requests\n",
        "\n",
        "url = 'http://httpbin.org/get'\n",
        "r = requests.get(url)\n",
        "# print(type(r.json()))  #dict\n",
        "print(r.json())"
      ],
      "execution_count": 0,
      "outputs": [
        {
          "output_type": "stream",
          "text": [
            "{'args': {}, 'headers': {'Accept': '*/*', 'Accept-Encoding': 'gzip, deflate', 'Host': 'httpbin.org', 'User-Agent': 'python-requests/2.21.0'}, 'origin': '35.190.180.154, 35.190.180.154', 'url': 'https://httpbin.org/get'}\n"
          ],
          "name": "stdout"
        }
      ]
    },
    {
      "cell_type": "markdown",
      "metadata": {
        "id": "WW5mFT7aiEbI",
        "colab_type": "text"
      },
      "source": [
        "### 各种请求方式\n",
        "\n",
        "requests.post('http://httpbin.org/post')\n",
        "\n",
        "requests.put('http://httpbin.org/put')\n",
        "\n",
        "requests.delete('http://httpbin.org/delete')\n",
        "\n",
        "requests.head('http://httpbin.org/get')\n",
        "\n",
        "requests.options('http://httpbin.org/get')"
      ]
    },
    {
      "cell_type": "markdown",
      "metadata": {
        "id": "Lcym2lEVpWUK",
        "colab_type": "text"
      },
      "source": [
        "requests.post(url, data=None, json=None, **kwargs)"
      ]
    },
    {
      "cell_type": "code",
      "metadata": {
        "id": "S2CWlN_hiEbJ",
        "colab_type": "code",
        "outputId": "8ebf5232-c60d-406f-81ad-e847bbbc0ed4",
        "colab": {
          "base_uri": "https://localhost:8080/",
          "height": 395
        }
      },
      "source": [
        "import requests\n",
        "\n",
        "url = 'http://httpbin.org/post'\n",
        "data = {'key1': 'value1', 'key2': 'value2'}\n",
        "headers = {\n",
        "    'User-Agent': 'my-browser'\n",
        "}\n",
        "r = requests.post(url, data=data, headers=headers)\n",
        "print(r.text)"
      ],
      "execution_count": 0,
      "outputs": [
        {
          "output_type": "stream",
          "text": [
            "{\n",
            "  \"args\": {}, \n",
            "  \"data\": \"\", \n",
            "  \"files\": {}, \n",
            "  \"form\": {\n",
            "    \"key1\": \"value1\", \n",
            "    \"key2\": \"value2\"\n",
            "  }, \n",
            "  \"headers\": {\n",
            "    \"Accept\": \"*/*\", \n",
            "    \"Accept-Encoding\": \"gzip, deflate\", \n",
            "    \"Content-Length\": \"23\", \n",
            "    \"Content-Type\": \"application/x-www-form-urlencoded\", \n",
            "    \"Host\": \"httpbin.org\", \n",
            "    \"User-Agent\": \"my-browser\"\n",
            "  }, \n",
            "  \"json\": null, \n",
            "  \"origin\": \"35.190.180.154, 35.190.180.154\", \n",
            "  \"url\": \"https://httpbin.org/post\"\n",
            "}\n",
            "\n"
          ],
          "name": "stdout"
        }
      ]
    },
    {
      "cell_type": "markdown",
      "metadata": {
        "id": "ECUcCtqkiEbL",
        "colab_type": "text"
      },
      "source": [
        "## 高级应用"
      ]
    },
    {
      "cell_type": "markdown",
      "metadata": {
        "id": "qCJhlgXuiEbM",
        "colab_type": "text"
      },
      "source": [
        "### proxies"
      ]
    },
    {
      "cell_type": "code",
      "metadata": {
        "id": "zohbFtXCiEbN",
        "colab_type": "code",
        "outputId": "d05a13e1-6339-42de-a996-a9d4d85a9714",
        "colab": {
          "base_uri": "https://localhost:8080/",
          "height": 35
        }
      },
      "source": [
        "import requests\n",
        "from requests.exceptions import ProxyError\n",
        "\n",
        "url = 'http://httpbin.org/get'\n",
        "proxies = {\n",
        "    'http': 'http://119.101.116.230:9999',\n",
        "    'https': 'http://119.101.118.26:9999',\n",
        "}\n",
        "\n",
        "try:\n",
        "    r = requests.get(url, proxies=proxies)\n",
        "    print(r.text)\n",
        "except ProxyError:\n",
        "    print('代理失败')"
      ],
      "execution_count": 0,
      "outputs": [
        {
          "output_type": "stream",
          "text": [
            "代理失败\n"
          ],
          "name": "stdout"
        }
      ]
    },
    {
      "cell_type": "markdown",
      "metadata": {
        "id": "dBIdEjpMiEbP",
        "colab_type": "text"
      },
      "source": [
        "### cookies"
      ]
    },
    {
      "cell_type": "code",
      "metadata": {
        "id": "NvGL-DcmiEbQ",
        "colab_type": "code",
        "outputId": "867d9c1a-7dfa-4e5b-9a64-6b92b4dbeb42",
        "colab": {
          "base_uri": "https://localhost:8080/",
          "height": 125
        }
      },
      "source": [
        "import requests\n",
        "\n",
        "url = 'http://httpbin.org/cookies'\n",
        "cookies = dict(cookies_are='working')\n",
        "\n",
        "r = requests.get(url, cookies=cookies)\n",
        "print(r.text)"
      ],
      "execution_count": 0,
      "outputs": [
        {
          "output_type": "stream",
          "text": [
            "{\n",
            "  \"cookies\": {\n",
            "    \"cookies_are\": \"working\"\n",
            "  }\n",
            "}\n",
            "\n"
          ],
          "name": "stdout"
        }
      ]
    },
    {
      "cell_type": "markdown",
      "metadata": {
        "id": "8T2H2ef3iEbU",
        "colab_type": "text"
      },
      "source": [
        "### timeout"
      ]
    },
    {
      "cell_type": "code",
      "metadata": {
        "id": "MaHigvHbiEbV",
        "colab_type": "code",
        "outputId": "fd4f3f8e-161f-4f87-ada7-50e75220e1e2",
        "colab": {
          "base_uri": "https://localhost:8080/",
          "height": 35
        }
      },
      "source": [
        "import requests\n",
        "from requests.exceptions import Timeout\n",
        "\n",
        "url = 'http://httpbin.org/get'\n",
        "try:\n",
        "    r = requests.get(url, timeout=0.01)\n",
        "    print(r.status_code)\n",
        "except Timeout:\n",
        "    print('Time Out')"
      ],
      "execution_count": 0,
      "outputs": [
        {
          "output_type": "stream",
          "text": [
            "Time Out\n"
          ],
          "name": "stdout"
        }
      ]
    },
    {
      "cell_type": "markdown",
      "metadata": {
        "id": "Z1U_VT8yiEbY",
        "colab_type": "text"
      },
      "source": [
        "### Session"
      ]
    },
    {
      "cell_type": "code",
      "metadata": {
        "id": "aJzWq-lwiEbb",
        "colab_type": "code",
        "outputId": "4bab117a-fe0e-4ece-b002-a6e4258897ac",
        "colab": {
          "base_uri": "https://localhost:8080/",
          "height": 305
        }
      },
      "source": [
        "import requests\n",
        "\n",
        "\n",
        "#实例化\n",
        "s = requests.Session()\n",
        "\n",
        "url = 'http://httpbin.org/get'\n",
        "#参数\n",
        "s.params = {'key1': 'value1', 'key2': 'value2'}\n",
        "#请求头\n",
        "s.headers = {'user-agent': 'my-app/0.0.1'}\n",
        "#代理\n",
        "# s.proxies = {\n",
        "#     'http': 'http://119.101.116.230:9999',\n",
        "#     'https': 'http://119.101.118.26:9999',\n",
        "# }\n",
        "#cookies\n",
        "s.get('http://httpbin.org/cookies/set/sessioncookie/123456789')\n",
        "#认证\n",
        "s.auth = ('user', 'pass')\n",
        "\n",
        "r = s.get(url)\n",
        "print(r.text)"
      ],
      "execution_count": 0,
      "outputs": [
        {
          "output_type": "stream",
          "text": [
            "{\n",
            "  \"args\": {\n",
            "    \"key1\": \"value1\", \n",
            "    \"key2\": \"value2\"\n",
            "  }, \n",
            "  \"headers\": {\n",
            "    \"Accept-Encoding\": \"identity\", \n",
            "    \"Authorization\": \"Basic dXNlcjpwYXNz\", \n",
            "    \"Cookie\": \"sessioncookie=123456789\", \n",
            "    \"Host\": \"httpbin.org\", \n",
            "    \"User-Agent\": \"my-app/0.0.1\"\n",
            "  }, \n",
            "  \"origin\": \"35.190.180.154, 35.190.180.154\", \n",
            "  \"url\": \"https://httpbin.org/get?key1=value1&key2=value2\"\n",
            "}\n",
            "\n"
          ],
          "name": "stdout"
        }
      ]
    },
    {
      "cell_type": "markdown",
      "metadata": {
        "id": "1SEW0LifiEbi",
        "colab_type": "text"
      },
      "source": [
        "# 正则表达式\n",
        "\n",
        "[正则表达式测试](http://tool.oschina.net/regex)"
      ]
    },
    {
      "cell_type": "markdown",
      "metadata": {
        "id": "nLqDiGmeiEbk",
        "colab_type": "text"
      },
      "source": [
        "| 模式| 描述|\n",
        "|--|-:|\n",
        "| \\w\t| 匹配字母数字及下划线 |\n",
        "| \\W\t| 匹配非字母数字下划线 |\n",
        "| \\s\t| 匹配任意空白字符，等价于 [\\t\\n\\r\\f]. |\n",
        "| \\S\t| 匹配任意非空字符 |\n",
        "| \\d\t| 匹配任意数字，等价于 [0-9] |\n",
        "| \\D\t| 匹配任意非数字 |\n",
        "| \\A\t| 匹配字符串开始 |\n",
        "| \\Z\t| 匹配字符串结束，如果是存在换行，只匹配到换行前的结束字符串 |\n",
        "| \\z\t| 匹配字符串结束 |\n",
        "| \\G\t| 匹配最后匹配完成的位置 |\n",
        "| \\n | 匹配一个换行符 |\n",
        "| \\t | 匹配一个制表符 |\n",
        "| ^\t| 匹配字符串的开头 |\n",
        "| $\t| 匹配字符串的末尾。|\n",
        "| .\t| 匹配任意字符，除了换行符，当re.DOTALL标记被指定时，则可以匹配包括换行符的任意字符。|\n",
        "| [...]\t| 用来表示一组字符,单独列出：[amk] 匹配 'a'，'m'或'k' |\n",
        "| [^...]\t| 不在[]中的字符：[^abc] 匹配除了a,b,c之外的字符。| \n",
        "| *\t| 匹配0个或多个的表达式。|\n",
        "| +\t| 匹配1个或多个的表达式。|\n",
        "| ?\t| 匹配0个或1个由前面的正则表达式定义的片段，非贪婪方式| \n",
        "| {n}\t| 精确匹配n个前面表达式。|\n",
        "| {n, m} | 匹配 n 到 m 次由前面的正则表达式定义的片段，贪婪方式| \n",
        "| a&#124;b | 匹配a或b |\n",
        "| ( )\t| 匹配括号内的表达式，也表示一个组 |\n",
        "\n",
        "---\n",
        "|控制标记| 描述 |\n",
        "|--|:-|\n",
        "| re.I | 使匹配对大小写不敏感 |\n",
        "| re.M | 多行匹配，影响 ^ 和 $ |\n",
        "| re.S | 使 . 匹配包括换行在内的所有字符 |"
      ]
    },
    {
      "cell_type": "markdown",
      "metadata": {
        "id": "qfMjicpPiEbn",
        "colab_type": "text"
      },
      "source": [
        "## re.match\n",
        "\n",
        "re.match(pattern, string, flags=0)  从字符串的开始位置匹配，返回match对象"
      ]
    },
    {
      "cell_type": "code",
      "metadata": {
        "id": "W0RtnI6biEbq",
        "colab_type": "code",
        "outputId": "e11df3dc-8279-46d2-808c-a94e915da2a2",
        "colab": {
          "base_uri": "https://localhost:8080/",
          "height": 71
        }
      },
      "source": [
        "import re\n",
        "\n",
        "content = 'Hello 123 4567 World'\n",
        "match = re.match('^Hello.*World', content)\n",
        "print(match)          # <_sre.SRE_Match object; span=(0, 20), match='Hello 123 4567 World'>\n",
        "print(type(match))    # _sre.SRE_Match\n",
        "print(match.group())"
      ],
      "execution_count": 0,
      "outputs": [
        {
          "output_type": "stream",
          "text": [
            "<_sre.SRE_Match object; span=(0, 20), match='Hello 123 4567 World'>\n",
            "<class '_sre.SRE_Match'>\n",
            "Hello 123 4567 World\n"
          ],
          "name": "stdout"
        }
      ]
    },
    {
      "cell_type": "code",
      "metadata": {
        "id": "tlQsrVqPiEbs",
        "colab_type": "code",
        "outputId": "2c9e1e8b-58a4-4a9e-a59e-1beed97fc22e",
        "colab": {
          "base_uri": "https://localhost:8080/",
          "height": 71
        }
      },
      "source": [
        "import re\n",
        "\n",
        "content = 'Hello 123 4567 World'\n",
        "match = re.match('^Hello\\s(\\d+)\\s(\\d+)\\sWorld$', content)\n",
        "print(match.group(0))\n",
        "print(match.group(1))\n",
        "print(match.group(2))"
      ],
      "execution_count": 0,
      "outputs": [
        {
          "output_type": "stream",
          "text": [
            "Hello 123 4567 World\n",
            "123\n",
            "4567\n"
          ],
          "name": "stdout"
        }
      ]
    },
    {
      "cell_type": "markdown",
      "metadata": {
        "id": "Wn0a6h9uiEby",
        "colab_type": "text"
      },
      "source": [
        "re.match强制从字符串的开始位置匹配"
      ]
    },
    {
      "cell_type": "code",
      "metadata": {
        "id": "DR1uYhoZiEb0",
        "colab_type": "code",
        "outputId": "0a163dcb-ad52-403c-d6ed-732e849b1227",
        "colab": {
          "base_uri": "https://localhost:8080/",
          "height": 35
        }
      },
      "source": [
        "import re\n",
        "\n",
        "content = 'Extra stings Hello 1234567 World'\n",
        "match = re.match('Hello.*Demo', content)\n",
        "print(match)"
      ],
      "execution_count": 0,
      "outputs": [
        {
          "output_type": "stream",
          "text": [
            "None\n"
          ],
          "name": "stdout"
        }
      ]
    },
    {
      "cell_type": "markdown",
      "metadata": {
        "id": "7NQZbF2ciEb4",
        "colab_type": "text"
      },
      "source": [
        "## re.search\n",
        "\n",
        "re.search(pattern, string, flags=0)  搜索匹配的第一个位置，返回match对象"
      ]
    },
    {
      "cell_type": "markdown",
      "metadata": {
        "id": "nAcKLBNeiEb5",
        "colab_type": "text"
      },
      "source": [
        "贪婪匹配(.*)"
      ]
    },
    {
      "cell_type": "code",
      "metadata": {
        "id": "zmhxVlvoiEb6",
        "colab_type": "code",
        "outputId": "86d2a78b-daa2-421c-e9cb-dade8ff6e1d1",
        "colab": {
          "base_uri": "https://localhost:8080/",
          "height": 53
        }
      },
      "source": [
        "import re\n",
        "\n",
        "content = 'Extra stings Hello 1234567 World'\n",
        "match = re.search('Hello (.*) World', content)\n",
        "print(match)\n",
        "print(match.group(1))"
      ],
      "execution_count": 0,
      "outputs": [
        {
          "output_type": "stream",
          "text": [
            "<_sre.SRE_Match object; span=(13, 32), match='Hello 1234567 World'>\n",
            "1234567\n"
          ],
          "name": "stdout"
        }
      ]
    },
    {
      "cell_type": "markdown",
      "metadata": {
        "id": "MgnWeqsliEb9",
        "colab_type": "text"
      },
      "source": [
        "非贪婪匹配(.*?)"
      ]
    },
    {
      "cell_type": "code",
      "metadata": {
        "id": "MnH-KlHGiEb-",
        "colab_type": "code",
        "outputId": "605f2b2a-0249-4e7b-e597-11c2e0a5aa93",
        "colab": {
          "base_uri": "https://localhost:8080/",
          "height": 53
        }
      },
      "source": [
        "import re\n",
        "\n",
        "content = 'Extra stings Hello 1234567 World'\n",
        "match = re.search('Hello (.*?)(\\d{6}) World', content)\n",
        "print(match.group(1))\n",
        "print(match.group(2))"
      ],
      "execution_count": 0,
      "outputs": [
        {
          "output_type": "stream",
          "text": [
            "1\n",
            "234567\n"
          ],
          "name": "stdout"
        }
      ]
    },
    {
      "cell_type": "markdown",
      "metadata": {
        "id": "I5y1xaLviEcA",
        "colab_type": "text"
      },
      "source": [
        "## re.findall\n",
        "\n",
        "re.findall(pattern, string, flags=0)  以列表形式返回全部匹配的子串"
      ]
    },
    {
      "cell_type": "code",
      "metadata": {
        "id": "TQ9aJg0KiEcB",
        "colab_type": "code",
        "outputId": "a09d7fe8-b06a-4ffb-b9e1-1f3198b28c77",
        "colab": {
          "base_uri": "https://localhost:8080/",
          "height": 125
        }
      },
      "source": [
        "import re\n",
        "\n",
        "html = '''<div id=\"songs-list\">\n",
        "    <h2 class=\"title\">经典老歌</h2>\n",
        "    <p class=\"introduction\">\n",
        "        经典老歌列表\n",
        "    </p>\n",
        "    <ul id=\"list\" class=\"list-group\">\n",
        "        <li data-view=\"2\">一路上有你</li>\n",
        "        <li data-view=\"7\">\n",
        "            <a href=\"/2.mp3\" singer=\"任贤齐\">沧海一声笑</a>\n",
        "        </li>\n",
        "        <li data-view=\"4\" class=\"active\">\n",
        "            <a href=\"/3.mp3\" singer=\"齐秦\">往事随风</a>\n",
        "        </li>\n",
        "        <li data-view=\"6\"><a href=\"/4.mp3\" singer=\"beyond\">光辉岁月</a></li>\n",
        "        <li data-view=\"5\"><a href=\"/5.mp3\" singer=\"陈慧琳\">记事本</a></li>\n",
        "        <li data-view=\"5\">\n",
        "            <a href=\"/6.mp3\" singer=\"邓丽君\">但愿人长久</a>\n",
        "        </li>\n",
        "    </ul>\n",
        "</div>'''\n",
        "\n",
        "results = re.findall('<li.*?href=\"(.*?)\".*?singer=\"(.*?)\">(.*?)</a>', html, re.S)\n",
        "print(type(results))  # list\n",
        "for result in results:\n",
        "    print(result[0], result[1], result[2])"
      ],
      "execution_count": 0,
      "outputs": [
        {
          "output_type": "stream",
          "text": [
            "<class 'list'>\n",
            "/2.mp3 任贤齐 沧海一声笑\n",
            "/3.mp3 齐秦 往事随风\n",
            "/4.mp3 beyond 光辉岁月\n",
            "/5.mp3 陈慧琳 记事本\n",
            "/6.mp3 邓丽君 但愿人长久\n"
          ],
          "name": "stdout"
        }
      ]
    },
    {
      "cell_type": "markdown",
      "metadata": {
        "id": "saSB_My-iEcE",
        "colab_type": "text"
      },
      "source": [
        "## re.compile\n",
        "\n",
        "re.compile(pattern, flags=0)"
      ]
    },
    {
      "cell_type": "code",
      "metadata": {
        "id": "L3IfthTpiEcF",
        "colab_type": "code",
        "outputId": "a3f68d5e-9e3d-42b7-b642-67417c9dea88",
        "colab": {
          "base_uri": "https://localhost:8080/",
          "height": 215
        }
      },
      "source": [
        "import re\n",
        "\n",
        "content = 'Extra stings Hello 1234567 World'\n",
        "pat = re.compile('\\d')  # 匹配数字\n",
        "print(pat)              # re.compile('\\\\d')\n",
        "print(type(pat))        # _sre.SRE_Pattern\n",
        "\n",
        "#pat.sub(repl, string, count=0)  用repl替换string中的匹配对象\n",
        "res1 = pat.sub('*', content, 5)\n",
        "print(res1)\n",
        "\n",
        "#pat.split(string=None, maxsplit=0, *, source=None)  按照匹配结果分割string，返回列表\n",
        "res2 = pat.split(content)\n",
        "print(res2)\n",
        "\n",
        "#pat.finditer(string, flags=0)  返回匹配的可迭代对象\n",
        "for m in pat.finditer(content):\n",
        "    print(type(m), m.group())"
      ],
      "execution_count": 0,
      "outputs": [
        {
          "output_type": "stream",
          "text": [
            "re.compile('\\\\d')\n",
            "<class '_sre.SRE_Pattern'>\n",
            "Extra stings Hello *****67 World\n",
            "['Extra stings Hello ', '', '', '', '', '', '', ' World']\n",
            "<class '_sre.SRE_Match'> 1\n",
            "<class '_sre.SRE_Match'> 2\n",
            "<class '_sre.SRE_Match'> 3\n",
            "<class '_sre.SRE_Match'> 4\n",
            "<class '_sre.SRE_Match'> 5\n",
            "<class '_sre.SRE_Match'> 6\n",
            "<class '_sre.SRE_Match'> 7\n"
          ],
          "name": "stdout"
        }
      ]
    },
    {
      "cell_type": "markdown",
      "metadata": {
        "id": "GQbp2st6iEcH",
        "colab_type": "text"
      },
      "source": [
        "# BeautifulSoup\n",
        "\n",
        "[中文文档](https://www.crummy.com/software/BeautifulSoup/bs4/doc.zh/)"
      ]
    },
    {
      "cell_type": "markdown",
      "metadata": {
        "id": "NP27xV-FiEcI",
        "colab_type": "text"
      },
      "source": [
        "| 解析器\t| 使用方法\t| 优势\t| 劣势 |\n",
        "|--| -- |-- |-- |\n",
        "| Python标准库 |\tBeautifulSoup(markup, \"html.parser\")\t| Python的内置标准库、执行速度适中 、文档容错能力强 | Python 2.7.3 or 3.2.2)前的版本中文容错能力差|\n",
        "| lxml HTML 解析器\t| BeautifulSoup(markup, \"lxml\")\t| 速度快、文档容错能力强 | 需要安装C语言库 |\n",
        "| lxml XML 解析器\t| BeautifulSoup(markup, \"xml\") | 速度快、唯一支持XML的解析器 | 需要安装C语言库 |\n",
        "| html5lib\t| BeautifulSoup(markup, \"html5lib\")\t | 最好的容错性、以浏览器的方式解析文档、生成HTML5格式的文档 | 速度慢、不依赖外部扩展 |"
      ]
    },
    {
      "cell_type": "markdown",
      "metadata": {
        "colab_type": "text",
        "id": "R_UsdeeuysJ3"
      },
      "source": [
        "## 简单用法"
      ]
    },
    {
      "cell_type": "code",
      "metadata": {
        "id": "pdwEA1IziEcJ",
        "colab_type": "code",
        "outputId": "c32f94c9-d8dd-4418-d9d4-dbfd141757fd",
        "colab": {
          "base_uri": "https://localhost:8080/",
          "height": 629
        }
      },
      "source": [
        "from bs4 import BeautifulSoup\n",
        "\n",
        "html = \"\"\"\n",
        "    <html><head><title>The Dormouse's story</title></head>\n",
        "    <body>\n",
        "    <p class=\"title\"><b>The Dormouse's story</b></p>\n",
        "\n",
        "    <p class=\"story\">Once upon a time there were three little sisters; and their names were\n",
        "    <a href=\"http://example.com/elsie\" class=\"sister\" id=\"link1\">Elsie</a>,\n",
        "    <a href=\"http://example.com/lacie\" class=\"sister\" id=\"link2\">Lacie</a> and\n",
        "    <a href=\"http://example.com/tillie\" class=\"sister\" id=\"link3\">Tillie</a>;\n",
        "    and they lived at the bottom of a well.</p>\n",
        "\n",
        "    <p class=\"story\">...</p>\n",
        "\"\"\"\n",
        "\n",
        "soup = BeautifulSoup(html, 'lxml')\n",
        "print(type(soup))  # bs4.BeautifulSoup\n",
        "print(soup.prettify())"
      ],
      "execution_count": 0,
      "outputs": [
        {
          "output_type": "stream",
          "text": [
            "<class 'bs4.BeautifulSoup'>\n",
            "<html>\n",
            " <head>\n",
            "  <title>\n",
            "   The Dormouse's story\n",
            "  </title>\n",
            " </head>\n",
            " <body>\n",
            "  <p class=\"title\">\n",
            "   <b>\n",
            "    The Dormouse's story\n",
            "   </b>\n",
            "  </p>\n",
            "  <p class=\"story\">\n",
            "   Once upon a time there were three little sisters; and their names were\n",
            "   <a class=\"sister\" href=\"http://example.com/elsie\" id=\"link1\">\n",
            "    Elsie\n",
            "   </a>\n",
            "   ,\n",
            "   <a class=\"sister\" href=\"http://example.com/lacie\" id=\"link2\">\n",
            "    Lacie\n",
            "   </a>\n",
            "   and\n",
            "   <a class=\"sister\" href=\"http://example.com/tillie\" id=\"link3\">\n",
            "    Tillie\n",
            "   </a>\n",
            "   ;\n",
            "    and they lived at the bottom of a well.\n",
            "  </p>\n",
            "  <p class=\"story\">\n",
            "   ...\n",
            "  </p>\n",
            " </body>\n",
            "</html>\n"
          ],
          "name": "stdout"
        }
      ]
    },
    {
      "cell_type": "markdown",
      "metadata": {
        "id": "VAuqHAa6iEcM",
        "colab_type": "text"
      },
      "source": [
        "### Tag"
      ]
    },
    {
      "cell_type": "code",
      "metadata": {
        "id": "FZq0r8UfiEcM",
        "colab_type": "code",
        "outputId": "442fdd67-56b5-498e-f982-f21ac4ceb9ee",
        "colab": {
          "base_uri": "https://localhost:8080/",
          "height": 53
        }
      },
      "source": [
        "print(type(soup.p))  # bs4.element.Tag\n",
        "print(soup.p)"
      ],
      "execution_count": 0,
      "outputs": [
        {
          "output_type": "stream",
          "text": [
            "<class 'bs4.element.Tag'>\n",
            "<p class=\"title\"><b>The Dormouse's story</b></p>\n"
          ],
          "name": "stdout"
        }
      ]
    },
    {
      "cell_type": "code",
      "metadata": {
        "id": "NO7q7_deiEcP",
        "colab_type": "code",
        "outputId": "60ad0428-8389-45d9-e280-cd163e01a4b4",
        "colab": {
          "base_uri": "https://localhost:8080/",
          "height": 89
        }
      },
      "source": [
        "print(type(soup.p.name), soup.p.name)      #获取名称  str\n",
        "print(type(soup.p.attrs), soup.p.attrs)    #获取属性  dict\n",
        "print(type(soup.p.string), soup.p.string)  #获取内容  NavigableString\n",
        "print(type(soup.p.text), soup.p.text)      #获取内容  str"
      ],
      "execution_count": 0,
      "outputs": [
        {
          "output_type": "stream",
          "text": [
            "<class 'str'> p\n",
            "<class 'dict'> {'class': ['title']}\n",
            "<class 'bs4.element.NavigableString'> The Dormouse's story\n",
            "<class 'str'> The Dormouse's story\n"
          ],
          "name": "stdout"
        }
      ]
    },
    {
      "cell_type": "markdown",
      "metadata": {
        "id": "6oLYk_0ViEcS",
        "colab_type": "text"
      },
      "source": [
        "## 遍历文档树"
      ]
    },
    {
      "cell_type": "code",
      "metadata": {
        "id": "llz8EW9liEcV",
        "colab_type": "code",
        "colab": {}
      },
      "source": [
        "from bs4 import BeautifulSoup\n",
        "\n",
        "html = \"\"\"\n",
        "    <html><head><title>The Dormouse's story</title></head>\n",
        "    <body>\n",
        "    <p class=\"title\"><b>The Dormouse's story</b></p>\n",
        "\n",
        "    <p class=\"story\">Once upon a time there were three little sisters; and their names were\n",
        "    <a href=\"http://example.com/elsie\" class=\"sister\" id=\"link1\">Elsie</a>,\n",
        "    <a href=\"http://example.com/lacie\" class=\"sister\" id=\"link2\">Lacie</a> and\n",
        "    <a href=\"http://example.com/tillie\" class=\"sister\" id=\"link3\">Tillie</a>;\n",
        "    and they lived at the bottom of a well.</p>\n",
        "\n",
        "    <p class=\"story\">...</p>\n",
        "\"\"\"\n",
        "\n",
        "soup = BeautifulSoup(html, 'lxml')"
      ],
      "execution_count": 0,
      "outputs": []
    },
    {
      "cell_type": "markdown",
      "metadata": {
        "id": "FBkg0EfviEcZ",
        "colab_type": "text"
      },
      "source": [
        "### 子节点和后代节点"
      ]
    },
    {
      "cell_type": "code",
      "metadata": {
        "id": "rrezMRS1iEca",
        "colab_type": "code",
        "outputId": "21c27abd-92d7-4e7e-b3b0-02f1d2eb634c",
        "colab": {
          "base_uri": "https://localhost:8080/",
          "height": 287
        }
      },
      "source": [
        "# tag的 .contents 属性可以将tag的子节点以列表的方式输出\n",
        "# print(soup.body.contents)\n",
        "\n",
        "# tag的 .children 生成器,可以对tag的子节点进行循环\n",
        "for ind, child in enumerate(soup.body.children):\n",
        "    print(ind, child)\n",
        "\n",
        "# tag的. descendants 生成器会返回所有的后代节点\n",
        "# for ind, child in enumerate(soup.body.descendants):\n",
        "#     print(ind, child)"
      ],
      "execution_count": 0,
      "outputs": [
        {
          "output_type": "stream",
          "text": [
            "0 \n",
            "\n",
            "1 <p class=\"title\"><b>The Dormouse's story</b></p>\n",
            "2 \n",
            "\n",
            "3 <p class=\"story\">Once upon a time there were three little sisters; and their names were\n",
            "    <a class=\"sister\" href=\"http://example.com/elsie\" id=\"link1\">Elsie</a>,\n",
            "    <a class=\"sister\" href=\"http://example.com/lacie\" id=\"link2\">Lacie</a> and\n",
            "    <a class=\"sister\" href=\"http://example.com/tillie\" id=\"link3\">Tillie</a>;\n",
            "    and they lived at the bottom of a well.</p>\n",
            "4 \n",
            "\n",
            "5 <p class=\"story\">...</p>\n",
            "6 \n",
            "\n"
          ],
          "name": "stdout"
        }
      ]
    },
    {
      "cell_type": "markdown",
      "metadata": {
        "id": "_jsGuzcEiEce",
        "colab_type": "text"
      },
      "source": [
        "### 父节点和祖先节点"
      ]
    },
    {
      "cell_type": "code",
      "metadata": {
        "id": "oduthiociEcf",
        "colab_type": "code",
        "outputId": "f063bd27-12c1-4a66-f0c7-4f04fa93745d",
        "colab": {
          "base_uri": "https://localhost:8080/",
          "height": 107
        }
      },
      "source": [
        "# 通过 .parent 属性来获取某个元素的父节点\n",
        "print(soup.a.parent)\n",
        "\n",
        "# 通过 .parents 属性可以递归得到元素的所有祖先节点\n",
        "# for ind, parent in enumerate(soup.a.parents):\n",
        "#     print(ind, parent)"
      ],
      "execution_count": 0,
      "outputs": [
        {
          "output_type": "stream",
          "text": [
            "<p class=\"story\">Once upon a time there were three little sisters; and their names were\n",
            "    <a class=\"sister\" href=\"http://example.com/elsie\" id=\"link1\">Elsie</a>,\n",
            "    <a class=\"sister\" href=\"http://example.com/lacie\" id=\"link2\">Lacie</a> and\n",
            "    <a class=\"sister\" href=\"http://example.com/tillie\" id=\"link3\">Tillie</a>;\n",
            "    and they lived at the bottom of a well.</p>\n"
          ],
          "name": "stdout"
        }
      ]
    },
    {
      "cell_type": "markdown",
      "metadata": {
        "id": "PbRbdCWWiEch",
        "colab_type": "text"
      },
      "source": [
        "### 兄弟节点"
      ]
    },
    {
      "cell_type": "code",
      "metadata": {
        "id": "_VjJAe8kiEci",
        "colab_type": "code",
        "outputId": "8e3616c7-7617-4273-b099-d92c0bdc1b30",
        "colab": {
          "base_uri": "https://localhost:8080/",
          "height": 197
        }
      },
      "source": [
        "# 向后遍历\n",
        "for ind, sibling in enumerate(soup.a.next_siblings):\n",
        "    print(ind, sibling)\n",
        "\n",
        "# 向前遍历\n",
        "for ind, sibling in enumerate(soup.a.previous_siblings):\n",
        "    print(ind, sibling)"
      ],
      "execution_count": 0,
      "outputs": [
        {
          "output_type": "stream",
          "text": [
            "0 ,\n",
            "    \n",
            "1 <a class=\"sister\" href=\"http://example.com/lacie\" id=\"link2\">Lacie</a>\n",
            "2  and\n",
            "    \n",
            "3 <a class=\"sister\" href=\"http://example.com/tillie\" id=\"link3\">Tillie</a>\n",
            "4 ;\n",
            "    and they lived at the bottom of a well.\n",
            "0 Once upon a time there were three little sisters; and their names were\n",
            "    \n"
          ],
          "name": "stdout"
        }
      ]
    },
    {
      "cell_type": "markdown",
      "metadata": {
        "id": "Hi7JbgkViEck",
        "colab_type": "text"
      },
      "source": [
        "## 搜索文档树"
      ]
    },
    {
      "cell_type": "code",
      "metadata": {
        "id": "f_kd4CbbiEcl",
        "colab_type": "code",
        "colab": {}
      },
      "source": [
        "from bs4 import BeautifulSoup\n",
        "\n",
        "html = \"\"\"\n",
        "    <html><head><title>The Dormouse's story</title></head>\n",
        "    <body>\n",
        "    <p class=\"title\"><b>The Dormouse's story</b></p>\n",
        "\n",
        "    <p class=\"story\" id=\"link\">Once upon a time there were three little sisters; and their names were\n",
        "    <a href=\"http://example.com/elsie\" class=\"sister\" id=\"link1\">Elsie</a>,\n",
        "    <a href=\"http://example.com/lacie\" class=\"sister\" id=\"link2\">Lacie</a> and\n",
        "    <a href=\"http://example.com/tillie\" class=\"sister\" id=\"link3\">Tillie</a>;\n",
        "    and they lived at the bottom of a well.</p>\n",
        "\n",
        "    <p class=\"story\">...</p>\n",
        "\"\"\"\n",
        "\n",
        "soup = BeautifulSoup(html, 'lxml')"
      ],
      "execution_count": 0,
      "outputs": []
    },
    {
      "cell_type": "markdown",
      "metadata": {
        "id": "UJwsA3HOiEcn",
        "colab_type": "text"
      },
      "source": [
        "### soup.find(name=None, attrs={}, recursive=True, text=None, **kwargs)\n",
        "\n",
        "返回第一个匹配对象"
      ]
    },
    {
      "cell_type": "code",
      "metadata": {
        "id": "fFbYaX9UiEco",
        "colab_type": "code",
        "outputId": "029e46c7-714b-4e7e-8a67-f14dec2da8ed",
        "colab": {
          "base_uri": "https://localhost:8080/",
          "height": 35
        }
      },
      "source": [
        "print(soup.find('a', class_='sister'))"
      ],
      "execution_count": 0,
      "outputs": [
        {
          "output_type": "stream",
          "text": [
            "<a class=\"sister\" href=\"http://example.com/elsie\" id=\"link1\">Elsie</a>\n"
          ],
          "name": "stdout"
        }
      ]
    },
    {
      "cell_type": "markdown",
      "metadata": {
        "id": "Sjc2wd_NiEcr",
        "colab_type": "text"
      },
      "source": [
        "### soup.find_all(name=None, attrs={}, recursive=True, text=None, limit=None, **kwargs)\n",
        "\n",
        "以列表形式返回所有的匹配对象"
      ]
    },
    {
      "cell_type": "code",
      "metadata": {
        "id": "iiMu0evRiEcs",
        "colab_type": "code",
        "outputId": "f02926de-bb3d-440b-ca4f-5b0272403caa",
        "colab": {
          "base_uri": "https://localhost:8080/",
          "height": 71
        }
      },
      "source": [
        "for ind, tag in enumerate(soup.find_all('a', class_='sister')):\n",
        "    print(ind, tag)"
      ],
      "execution_count": 0,
      "outputs": [
        {
          "output_type": "stream",
          "text": [
            "0 <a class=\"sister\" href=\"http://example.com/elsie\" id=\"link1\">Elsie</a>\n",
            "1 <a class=\"sister\" href=\"http://example.com/lacie\" id=\"link2\">Lacie</a>\n",
            "2 <a class=\"sister\" href=\"http://example.com/tillie\" id=\"link3\">Tillie</a>\n"
          ],
          "name": "stdout"
        }
      ]
    },
    {
      "cell_type": "code",
      "metadata": {
        "id": "LQzt_Sbyy3b9",
        "colab_type": "code",
        "outputId": "7e860a8b-f66d-492b-a7db-8254cba89713",
        "colab": {
          "base_uri": "https://localhost:8080/",
          "height": 71
        }
      },
      "source": [
        "# 找到所有属性有3个的标签\n",
        "for ind, tag in enumerate(soup.find_all(lambda tag: len(tag.attrs)==3)):\n",
        "    print(ind, tag)"
      ],
      "execution_count": 0,
      "outputs": [
        {
          "output_type": "stream",
          "text": [
            "0 <a class=\"sister\" href=\"http://example.com/elsie\" id=\"link1\">Elsie</a>\n",
            "1 <a class=\"sister\" href=\"http://example.com/lacie\" id=\"link2\">Lacie</a>\n",
            "2 <a class=\"sister\" href=\"http://example.com/tillie\" id=\"link3\">Tillie</a>\n"
          ],
          "name": "stdout"
        }
      ]
    },
    {
      "cell_type": "markdown",
      "metadata": {
        "id": "1IUt8gphiEc0",
        "colab_type": "text"
      },
      "source": [
        "### CSS选择器\n",
        "\n",
        "通过select()直接传入CSS选择器即可完成选择"
      ]
    },
    {
      "cell_type": "code",
      "metadata": {
        "id": "Mg898LzXiEc2",
        "colab_type": "code",
        "outputId": "81cd19c3-f241-4f68-be71-9f8b93c2d325",
        "colab": {
          "base_uri": "https://localhost:8080/",
          "height": 179
        }
      },
      "source": [
        "# 直接选择标签\n",
        "for tag in soup.select('p a'):\n",
        "    print(tag)\n",
        "\n",
        "# 选择class,前面加.\n",
        "for tag in soup.select('.story .sister'):\n",
        "    print(tag)\n",
        "\n",
        "# 选择id,前面加#\n",
        "for tag in soup.select('#link .sister'):\n",
        "    print(tag)"
      ],
      "execution_count": 0,
      "outputs": [
        {
          "output_type": "stream",
          "text": [
            "<a class=\"sister\" href=\"http://example.com/elsie\" id=\"link1\">Elsie</a>\n",
            "<a class=\"sister\" href=\"http://example.com/lacie\" id=\"link2\">Lacie</a>\n",
            "<a class=\"sister\" href=\"http://example.com/tillie\" id=\"link3\">Tillie</a>\n",
            "<a class=\"sister\" href=\"http://example.com/elsie\" id=\"link1\">Elsie</a>\n",
            "<a class=\"sister\" href=\"http://example.com/lacie\" id=\"link2\">Lacie</a>\n",
            "<a class=\"sister\" href=\"http://example.com/tillie\" id=\"link3\">Tillie</a>\n",
            "<a class=\"sister\" href=\"http://example.com/elsie\" id=\"link1\">Elsie</a>\n",
            "<a class=\"sister\" href=\"http://example.com/lacie\" id=\"link2\">Lacie</a>\n",
            "<a class=\"sister\" href=\"http://example.com/tillie\" id=\"link3\">Tillie</a>\n"
          ],
          "name": "stdout"
        }
      ]
    },
    {
      "cell_type": "markdown",
      "metadata": {
        "id": "eq4KerBOiEc5",
        "colab_type": "text"
      },
      "source": [
        "# PyQuery"
      ]
    },
    {
      "cell_type": "markdown",
      "metadata": {
        "id": "iy_y4Ua8iEc6",
        "colab_type": "text"
      },
      "source": [
        "## 初始化"
      ]
    },
    {
      "cell_type": "code",
      "metadata": {
        "id": "ss8xV7lUiEc8",
        "colab_type": "code",
        "colab": {}
      },
      "source": [
        "from pyquery import PyQuery as pq\n",
        "\n",
        "html = \"\"\"\n",
        "    <html><head><title>The Dormouse's story</title></head>\n",
        "    <body>\n",
        "    <p class=\"title\"><b>The Dormouse's story</b></p>\n",
        "\n",
        "    <p class=\"story\" id=\"link\">Once upon a time there were three little sisters; and their names were\n",
        "    <a href=\"http://example.com/elsie\" class=\"sister\" id=\"link1\">Elsie</a>,\n",
        "    <a href=\"http://example.com/lacie\" class=\"sister\" id=\"link2\">Lacie</a> and\n",
        "    <a href=\"http://example.com/tillie\" class=\"sister\" id=\"link3\">Tillie</a>;\n",
        "    and they lived at the bottom of a well.</p>\n",
        "\n",
        "    <p class=\"story\">...</p>\n",
        "\"\"\"\n",
        "\n",
        "doc = pq(html)\n",
        "print(type(doc))"
      ],
      "execution_count": 0,
      "outputs": []
    },
    {
      "cell_type": "markdown",
      "metadata": {
        "id": "jGwwj442iEdB",
        "colab_type": "text"
      },
      "source": [
        "## CSS选择器\n",
        "\n",
        "1.直接选择标签\n",
        "\n",
        "2.选择class,前面加.\n",
        "\n",
        "3.选择id,前面加#"
      ]
    },
    {
      "cell_type": "code",
      "metadata": {
        "id": "oVwXpfwziEdC",
        "colab_type": "code",
        "colab": {}
      },
      "source": [
        "print(doc('.story a'))"
      ],
      "execution_count": 0,
      "outputs": []
    },
    {
      "cell_type": "markdown",
      "metadata": {
        "id": "-RiJtQ0xiEdI",
        "colab_type": "text"
      },
      "source": [
        "## 获取信息"
      ]
    },
    {
      "cell_type": "code",
      "metadata": {
        "id": "A6HuaU-liEdK",
        "colab_type": "code",
        "colab": {}
      },
      "source": [
        "a = doc('.story #link1')\n",
        "print(a)\n",
        "\n",
        "# 获取属性\n",
        "print(a.attr('href'))\n",
        "print(a.attr.href)\n",
        "\n",
        "# 获取文本\n",
        "print(a.text())"
      ],
      "execution_count": 0,
      "outputs": []
    },
    {
      "cell_type": "markdown",
      "metadata": {
        "id": "a5XvY4yLiEdN",
        "colab_type": "text"
      },
      "source": [
        "# selenium"
      ]
    },
    {
      "cell_type": "markdown",
      "metadata": {
        "id": "6YXkJAVniEdN",
        "colab_type": "text"
      },
      "source": [
        "## 初始化浏览器"
      ]
    },
    {
      "cell_type": "code",
      "metadata": {
        "id": "r_d-lvokiEdO",
        "colab_type": "code",
        "colab": {}
      },
      "source": [
        "from selenium import webdriver\n",
        "\n",
        "browser = webdriver.Chrome()\n",
        "# browser = webdriver.Firefox()\n",
        "# browser = webdriver.Edge()\n",
        "# browser = webdriver.PhantomJS()\n",
        "# browser = webdriver.Safari()"
      ],
      "execution_count": 0,
      "outputs": []
    },
    {
      "cell_type": "markdown",
      "metadata": {
        "id": "wtB9o-YdiEdS",
        "colab_type": "text"
      },
      "source": [
        "## 访问页面"
      ]
    },
    {
      "cell_type": "code",
      "metadata": {
        "id": "yOnK6Vc-iEdT",
        "colab_type": "code",
        "colab": {}
      },
      "source": [
        "browser.get('https://httpbin.org/get')\n",
        "print(type(browser.page_source))\n",
        "print(browser.page_source)\n",
        "browser.close()"
      ],
      "execution_count": 0,
      "outputs": []
    },
    {
      "cell_type": "markdown",
      "metadata": {
        "id": "VkAqAngpWtXE",
        "colab_type": "text"
      },
      "source": [
        "# Scrapy\n",
        "\n",
        "[中文文档](https://scrapy-chs.readthedocs.io/zh_CN/0.24/index.html)"
      ]
    },
    {
      "cell_type": "markdown",
      "metadata": {
        "id": "meTikAHIXyFN",
        "colab_type": "text"
      },
      "source": [
        "## 创建新项目"
      ]
    },
    {
      "cell_type": "code",
      "metadata": {
        "id": "Gqs4gxdtXskT",
        "colab_type": "code",
        "colab": {}
      },
      "source": [
        "!scrapy startproject myproject\n",
        "!cd myproject\n",
        "!scrapy genspider test httpbin.org"
      ],
      "execution_count": 0,
      "outputs": []
    },
    {
      "cell_type": "markdown",
      "metadata": {
        "id": "TpkfiplRiEdV",
        "colab_type": "text"
      },
      "source": [
        "# 爬虫实战\n",
        "\n",
        "[我的爬虫代码库](https://github.com/qinyunkone/My-Spider)"
      ]
    },
    {
      "cell_type": "markdown",
      "metadata": {
        "id": "GDOOLeHCiEdW",
        "colab_type": "text"
      },
      "source": [
        "## 1. requests+BeautifulSoup 爬取煎蛋网图片\n",
        "\n",
        "网址：‘http://jandan.net/ooxx/’\n",
        "\n",
        "目标：爬取图片并保存\n",
        "\n",
        "代码：https://github.com/qinyunkone/My-Spider/tree/master/JanDan"
      ]
    },
    {
      "cell_type": "markdown",
      "metadata": {
        "id": "qnW7mESCiEda",
        "colab_type": "text"
      },
      "source": [
        "## 2. selenium 爬取地级市天气数据\n",
        "\n",
        "网址：https://www.aqistudy.cn/historydata/\n",
        "\n",
        "目标：爬取地级市空气质量统计数据\n",
        "\n",
        "代码：https://github.com/qinyunkone/My-Spider/tree/master/AqiStudy"
      ]
    }
  ]
}